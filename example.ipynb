{
 "cells": [
  {
   "cell_type": "markdown",
   "id": "8270b8e7-dc13-4d6a-b4a2-b05e682ca20e",
   "metadata": {},
   "source": [
    "<!--\n",
    "Copyright (c) Meta Platforms, Inc. and affiliates.\n",
    "This source code is licensed under the BSD-style license found in the\n",
    "LICENSE file in the root directory of this source tree.\n",
    "-->\n",
    "<div style=\"text-align: center;\">\n",
    "  <img src=\"website/static/img/LTVision-logo.png\" alt=\"Logo\" style=\"width:400px;\"/>\n",
    "</div>\n",
    "\n",
    "***\n",
    "\n",
    "<div style=\"font-size: 32px; color: #0b2287; text-align: center;\">Welcome to LTVision - Module 1</div> <br>\n",
    "\n",
    "**LTVision** is an open-source library from Meta, designed to empower businesses to unlock the full potential of predicted customer lifetime value (pLTV) modeling.\n",
    "\n",
    "**Our vision** is to lead the industry by building a community of pLTV practitioners that drives innovation and creates value for everyone in the pLTV ecosystem through expertise, education, and thought leadership. <br>\n",
    "\n",
    "Our first release - **Module 1**, is now available. It focuses on generating customer insights and estimating the potential pLTV opportunity size, enabling business decision-makers to evaluate the potential ROI of this initiative before investing in a pLTV model and pLTV strategy.\n",
    "\n",
    "Copyright (c) Meta Platforms, Inc. and affiliates.  <br>\n",
    "This open source code is licensed under the BSD-style license, which can be found in the LICENSE file in the root directory of this source tree.\n",
    "***"
   ]
  },
  {
   "cell_type": "markdown",
   "id": "efb5a6ec-241f-44d9-a49d-642b121e0a87",
   "metadata": {},
   "source": [
    "**Table of Contents**\n",
    "- [Data Preparation](#Data-Preparation)\n",
    "- [Data Validation](#Data-Validation)\n",
    "- [Purchase Frequency](#Purchase-Frequency)\n",
    "- [Top spenders'contribution to total revenue](#Top-spenders'-contribution-to-total-revenue)\n",
    "- [Time to First Purchase](#Time-to-First-Purchase)\n",
    "- [Correlation between short-term and long-term revenue](#Correlation-between-short-term-and-long-term-revenue)\n",
    "- [Purchaser Flow Overtime](#Purchaser-Flow-Overtime)\n",
    "- [pLTV Opportunity Size Estimation](#pLTV-Opportunity-Size-Estimation)\n",
    "- [LTVision Module 1 Insights Summary](#LTVision-Module-1-Insights-Summary)"
   ]
  },
  {
   "cell_type": "markdown",
   "id": "e5c773ef-3ac1-42ba-bfc2-aa97f95619cb",
   "metadata": {},
   "source": [
    "**We Value Your Feedback!** <br>\n",
    "We are constantly looking to improve LTVision and your feedback is invaluable to us! <br>\n",
    "Please [take our survey](https://docs.google.com/forms/d/e/1FAIpQLSej8tQdsuwQ71_cLU-k5s2n933_xuQ5a8pIt1jYtlVcMEmDlA/viewform?usp=sharing) to share your feedback or questions! Thank you for helping us improve! <br>"
   ]
  },
  {
   "cell_type": "code",
   "execution_count": null,
   "id": "4a8c55c0",
   "metadata": {},
   "outputs": [],
   "source": [
    "from src import LTVSyntheticData\n",
    "from src import LTVexploratory\n",
    "from src.graph import save_plot\n",
    "import plotly.io as pio\n",
    "pio.renderers.default = \"iframe\""
   ]
  },
  {
   "cell_type": "markdown",
   "id": "c5e7ab3c",
   "metadata": {},
   "source": [
    "***\n",
    "# Data Preparation"
   ]
  },
  {
   "cell_type": "markdown",
   "id": "b05c43ee-b182-458b-929f-8e6c8decf9c3",
   "metadata": {},
   "source": [
    "## Generate simulated data or import your own "
   ]
  },
  {
   "cell_type": "markdown",
   "id": "708b23ab-5c59-422a-b2af-bb3913cd893b",
   "metadata": {},
   "source": [
    "To demonstrate an end-to-end implementation of LTVision Module 1, run the below code to generate simulated demo data for 20,000 users with purchases over a period of 180 days. <br>\n",
    "  "
   ]
  },
  {
   "cell_type": "code",
   "execution_count": null,
   "id": "d5c84eec",
   "metadata": {},
   "outputs": [],
   "source": [
    "\n",
    "synth_data_gen = LTVSyntheticData(n_users=20000, random_seed=42)\n",
    "customer_table = synth_data_gen.get_customers_data()\n",
    "event_table = synth_data_gen.get_events_data()\n"
   ]
  },
  {
   "cell_type": "markdown",
   "id": "4aa8c97a-732f-4cc8-a19b-12696d23d502",
   "metadata": {},
   "source": [
    "**Please note:** \n",
    "- All comments and insight statements underneath each output are hard coded based on the demo data with the above parameters. Any changes to the parameters (such as random_seed=42) will change the demo data and outputs. <br>\n",
    "- When you are ready to run LTVision Module 1 with your own data, follow the data requirements in the documentation and run the following code to import your data by updating ‘example.csv’ with your file path and name: <br>\n",
    "      \n",
    "*customer_table = pd.read_csv('example.csv')* <br>\n",
    "*event_table = pd.read_csv('example.csv')*\n"
   ]
  },
  {
   "cell_type": "markdown",
   "id": "a4079719-08fb-43ab-ad3b-d5efba78055a",
   "metadata": {},
   "source": [
    "## Format data"
   ]
  },
  {
   "cell_type": "markdown",
   "id": "dc53e646-f17c-4a09-9cfe-e8da071b8551",
   "metadata": {},
   "source": [
    "Before analysis begins, use the `LTVexploratory()` function to map data into structured formats. <br>"
   ]
  },
  {
   "cell_type": "code",
   "execution_count": null,
   "id": "df1fe136-3ba7-4b71-9482-9270cce8fb93",
   "metadata": {},
   "outputs": [],
   "source": [
    "\n",
    "da = LTVexploratory(\n",
    "    customer_table,\n",
    "    event_table,\n",
    "    registration_time_col='registration_date',\n",
    "    event_time_col='event_date',\n",
    "    event_name_col='event_name',\n",
    "    value_col='value',\n",
    "    rounding_precision = 1\n",
    "    )"
   ]
  },
  {
   "cell_type": "markdown",
   "id": "c035439d-d8c8-4cd6-ace2-37e71985507f",
   "metadata": {},
   "source": [
    "If you are importing your own data, make sure to check the summary statistics of your data file both before and after the LTVexploratory function, in case some records may have been dropped by the function.  <br>"
   ]
  },
  {
   "cell_type": "markdown",
   "id": "7129e3b3-ea0c-4de0-80b7-5cf708eb63d0",
   "metadata": {},
   "source": [
    "***\n",
    "\n",
    "# Data Validation"
   ]
  },
  {
   "cell_type": "markdown",
   "id": "e8fabad4-2909-423f-b56f-3d36c67194ab",
   "metadata": {},
   "source": [
    "## Customer & Event table overview"
   ]
  },
  {
   "cell_type": "markdown",
   "id": "450bacc2-26fb-48fa-8d61-703a7d9f24e1",
   "metadata": {},
   "source": [
    "The *‘customer’* table is a user-level table that records the initial interaction date, or day 0, for each user who has engaged with the business. This initial interaction could be installing the App or making a first purchase. <br> "
   ]
  },
  {
   "cell_type": "code",
   "execution_count": null,
   "id": "b2fbb3ba",
   "metadata": {},
   "outputs": [],
   "source": [
    "customer_table.head()"
   ]
  },
  {
   "cell_type": "markdown",
   "id": "717d3a1b-c4ae-4033-a46b-39396cf61d6a",
   "metadata": {},
   "source": [
    "The *‘event’* table is a transaction-level documentation of all revenue-generating events completed for the advertising unit. <br> "
   ]
  },
  {
   "cell_type": "code",
   "execution_count": null,
   "id": "a1a87178",
   "metadata": {},
   "outputs": [],
   "source": [
    "event_table.head()"
   ]
  },
  {
   "cell_type": "markdown",
   "id": "ef8efad7-d26f-4b2e-b71a-97f70dabd345",
   "metadata": {},
   "source": [
    "Here are basic descriptive statistics of both datasets through the `summary()` function."
   ]
  },
  {
   "cell_type": "code",
   "execution_count": null,
   "id": "ebe94f1e-aabe-4bbd-8185-ad1f72b4d3e3",
   "metadata": {},
   "outputs": [],
   "source": [
    "da.summary()"
   ]
  },
  {
   "cell_type": "markdown",
   "id": "2181ffa7",
   "metadata": {},
   "source": [
    "## Customer & Event table overlap"
   ]
  },
  {
   "cell_type": "markdown",
   "id": "fc643d64-5125-4a6c-9a11-52542aa5b551",
   "metadata": {},
   "source": [
    "The `plot_customers_intersection()` function shows how much percent of customers are actually purchasers and whether there are customers who are present in the customer table but not present in the events table, and therefore need to be excluded from following analysis.<br> "
   ]
  },
  {
   "cell_type": "code",
   "execution_count": null,
   "id": "aab5991b",
   "metadata": {},
   "outputs": [],
   "source": [
    "# Intersection between users in the two datasets\n",
    "fig, data = da.plot_customers_intersection()\n",
    "save_plot(fig, \"images/customer_intersection.png\")"
   ]
  },
  {
   "cell_type": "markdown",
   "id": "21a198b5-1f74-4937-bea0-9892314b61d5",
   "metadata": {},
   "source": [
    "> From the demo data output we can see that: <br> \n",
    ">> 1. Upper left: should always be 0% <br> \n",
    ">> 2. Upper right: 95.6% of customers are not generating any revenue events  <br> \n",
    ">> 3. Lower left: 0% means everyone in the customer table are also in the events table, therefore, there’s no need to exclude any customers from the events table for the following analysis  <br> \n",
    ">> 4. Lower right: 4.4% of all customers are revenue-generating customers or purchasers <br> "
   ]
  },
  {
   "cell_type": "markdown",
   "id": "2eca4f12-7d6b-4eaf-b4ab-46d26103abb8",
   "metadata": {},
   "source": [
    "***\n",
    "# Purchase Frequency"
   ]
  },
  {
   "cell_type": "markdown",
   "id": "d9e8ea12-e0be-4bfa-aef3-b9ea3a36f2b3",
   "metadata": {},
   "source": [
    "The `plot_purchases_distribution()` function visualizes the purchase frequency among all purchasers. <br> \n",
    "\n",
    "This function has two input parameters: <br> \n",
    "\n",
    "- *days_limit:* This parameter defines the minimum duration since a customers’ initial interaction, for them to be included in this  visualization. In this example, the time frame is set at 60 days, but you can change it to a time frame that makes most sense for your business. (e.g. 30 days, 120 days or 365 days etc.)<br> \n",
    "\n",
    "- *truncate_share:* This parameter defines the percentage of all purchasers that are shown in this visualization, or the percentage of ‘outliers’ that are excluded from this visualization, to make this histogram easier to read. In this example, the truncate_share is set to 0.999, which means that the top 0.1% of the highest spenders were excluded from this visualization.<br> \n"
   ]
  },
  {
   "cell_type": "code",
   "execution_count": null,
   "id": "b64ef6f9",
   "metadata": {},
   "outputs": [],
   "source": [
    "\n",
    "fig, data = da.plot_purchases_distribution(days_limit=60, truncate_share=0.999)\n",
    "save_plot(fig, \"images/purchases_distribution.png\")\n",
    "fig"
   ]
  },
  {
   "cell_type": "markdown",
   "id": "d659d278-6021-47d3-8035-6233f8fb31c2",
   "metadata": {},
   "source": [
    "> From the demo data output, we can see that:  \n",
    ">> - 39% of all purchasers have purchased only once \n",
    ">> - 29% purchased twice\n",
    ">> - 14% purchased three times"
   ]
  },
  {
   "cell_type": "markdown",
   "id": "087685ed-4229-4634-b744-4ca6be23dc07",
   "metadata": {},
   "source": [
    "***\n",
    "# Top spenders' contribution to total revenue"
   ]
  },
  {
   "cell_type": "markdown",
   "id": "51454699-dd5a-45af-a739-0eb875509d2b",
   "metadata": {},
   "source": [
    "The `plot_revenue_pareto()` function visualizes if a significant portion of revenue was contributed by a small group of high spenders.<br> \n",
    "\n",
    "Similar to *“plot_purchases_distribution”*, the *“plot_revenue_pareto”* function uses the same days_limit parameter to generate the output and it operates on the same customer cohorts as the *“plot_purchases_distribution”* function. <br>\n",
    "\n",
    "- *days_limit:* Defines the minimum duration since a customers’ initial interaction, for them to be included in this visualization. In this example, the limit is set at 60 days.<br> \n"
   ]
  },
  {
   "cell_type": "code",
   "execution_count": null,
   "id": "a8e6eb43",
   "metadata": {},
   "outputs": [],
   "source": [
    "\n",
    "fig, data = da.plot_revenue_pareto(days_limit=60)\n",
    "save_plot(fig, \"images/revenue_pareto.png\")\n",
    "fig\n"
   ]
  },
  {
   "cell_type": "markdown",
   "id": "b09f9046-9f45-4f28-a869-10f02bcdc7e6",
   "metadata": {},
   "source": [
    "> From the demo data output we can see that: <br> \n",
    ">> - The top 5% highest spending customers contributed to 67.7% of total revenue<br>\n",
    ">> - The top 10% spenders contributed to 74.6% of total revenue<br>\n",
    ">> - The top 20% spenders contributed to more than 83% of total revenue<br>"
   ]
  },
  {
   "cell_type": "markdown",
   "id": "5ff303b1-6daf-49d6-9f31-1571b0c11f2a",
   "metadata": {},
   "source": [
    "***\n",
    "# Time to First Purchase"
   ]
  },
  {
   "cell_type": "markdown",
   "id": "7134a68b-9d1a-4c75-b55b-8bad8b2a9d98",
   "metadata": {},
   "source": [
    "The `plot_customers_histogram_per_conversion_day()` function visualizes the duration between the initial interaction and the first purchase.<br> \n",
    "This function also uses the *days_limit* parameter. <br>"
   ]
  },
  {
   "cell_type": "code",
   "execution_count": null,
   "id": "bc5c3cf4",
   "metadata": {},
   "outputs": [],
   "source": [
    "\n",
    "fig, data = da.plot_customers_histogram_per_conversion_day(days_limit=60)\n",
    "save_plot(fig, \"images/customers_histogram_per_conversion_day.png\")\n",
    "fig\n"
   ]
  },
  {
   "cell_type": "markdown",
   "id": "4ce283ba-bf00-4952-a138-59399e3385eb",
   "metadata": {},
   "source": [
    "> From the demo data output we can see that:\n",
    ">> - 55% of first-time purchases happened within 7 days of the initial interaction<br>\n",
    ">> - Since the remaining 45% of first purchases happen beyond the 7-day optimization window, it means that the current digital customer acquisition campaign is missing out on 45% of the purchases that happen outside the 7-day optimization window<br>"
   ]
  },
  {
   "cell_type": "markdown",
   "id": "7c0c7a30-7b55-4fcf-ac32-1bb96e724936",
   "metadata": {},
   "source": [
    "***\n",
    "# Correlation between short-term and long-term revenue"
   ]
  },
  {
   "cell_type": "markdown",
   "id": "d5922e72-7a55-4afb-a445-0daa5d706998",
   "metadata": {},
   "source": [
    "The `plot_early_late_revenue_correlation()` function demonstrates the correlation between short-term and long-term purchase values across various timeframes. <br>\n",
    "This function also uses the *days_limit* parameter.<br>"
   ]
  },
  {
   "cell_type": "code",
   "execution_count": null,
   "id": "b89c0319",
   "metadata": {},
   "outputs": [],
   "source": [
    "\n",
    "fig, data = da.plot_early_late_revenue_correlation(days_limit=70)\n",
    "save_plot(fig, \"images/early_late_revenue_correlation.jpeg\")\n"
   ]
  },
  {
   "cell_type": "markdown",
   "id": "5ba482f1-a332-4afa-a320-803b296f1528",
   "metadata": {},
   "source": [
    "> From the demo data output we can see that:  <br>\n",
    ">> - There is high correlation in early time frames. For example, the correlation between day-7 revenue and day-10 revenue is a robust 95%\n",
    ">> - However, as time progresses, the correlation between day-7 revenue and future revenue weakens significantly. By day-22, this correlation has already dropped below 40%. This suggests that day-7 revenue is not a reliable indicator for revenue on day-22 and beyond.\n",
    ">> - This diminishing correlation between early and later revenue is a crucial indicator of the potential value a pLTV strategy could bring to a business.<br>\n"
   ]
  },
  {
   "cell_type": "markdown",
   "id": "3b30780e-5583-4bef-badd-19620db32af0",
   "metadata": {},
   "source": [
    "***\n",
    "# Purchaser Flow Overtime"
   ]
  },
  {
   "cell_type": "markdown",
   "id": "bdbad4c5-8deb-422b-b005-9d25d060deee",
   "metadata": {},
   "source": [
    "The `plot_paying_customers_flow()` function provides further insights into purchasers’ buying behavior overtime, showing how low, medium and high purchasers flow to the same or different classes at a later point in time. <br>\n",
    "\n",
    "This function has two input parameters: <br>\n",
    "\n",
    "- *early_limit:* This parameter sets the time stamp on the left axis, which shows the cumulative value of a customer by that early point in time, categorized into equally sized and ranked groups: No spend, low spend, medium spend and high spend; It’s set to 7 days by default because most digital campaigns have a 7-day optimization window.\n",
    "\n",
    "- *days_limit:* This parameter sets the time stamp on the right axis, which shows the cumulative value of the same customer at a later point in time, again categorized into equally sized and ranked groups: low spend, medium spend and high spend; feel free to play with this parameter and experiment with different future timestamps (e.g. 120 days, 180 days, 365 days etc.), to gain a more nuanced exploration of your customers’ purchasing behavior across different time frames. \n",
    "\n",
    "**Please note** that this visualization includes ALL purchasers defined by the days_limit parameter. In this example, early_limit is set to 7 days and days_limit is set to 60 days, which means this visualization includes ALL purchasers up to day 60 from initial interaction. <br>"
   ]
  },
  {
   "cell_type": "code",
   "execution_count": null,
   "id": "8bea66ed",
   "metadata": {},
   "outputs": [],
   "source": [
    "\n",
    "fig, data = da.plot_paying_customers_flow(days_limit=60, early_limit=7, spending_breaks={}, end_spending_breaks={})\n",
    "save_plot(fig, \"images/paying_customer_flow.png\", dpi=400) # you can increase the dpi to get a higher resolution\n",
    "fig"
   ]
  },
  {
   "cell_type": "code",
   "execution_count": null,
   "id": "f0875799",
   "metadata": {},
   "outputs": [],
   "source": [
    "data\n"
   ]
  },
  {
   "cell_type": "markdown",
   "id": "677db629-26b2-4fb1-9bbe-045e8e7d9634",
   "metadata": {},
   "source": [
    "> From the demo data output we can see that: <br>\n",
    ">> - 27% of no spenders by day-7 became high spenders by day-60 (99/(156+111+99) = 27%)\n",
    ">> - 29% of low spenders by day-7 became high spenders by day-60 (44/(68+38+44) = 29%)\n",
    ">> - 23% of medium spenders by day-7 became high spenders by day-60 (35/(48+67+35) = 23%)\n",
    ">> - In total, 66% of high spenders by day-60 were not high spenders at day-7 ((99+44+35)/(99+44+35+93) = 178/271 = 66%)\n",
    ">> - Feel free to adjust the days_limit parameter to explore how purchase behavior and pLTV opportunities may change across different time frames <br>\n"
   ]
  },
  {
   "cell_type": "markdown",
   "id": "50dae9eb-b025-43d7-8035-228be3d70aa1",
   "metadata": {},
   "source": [
    "***\n",
    "# pLTV Opportunity Size Estimation"
   ]
  },
  {
   "cell_type": "markdown",
   "id": "07efb2b9-37c7-405a-90de-994e61459e14",
   "metadata": {
    "jp-MarkdownHeadingCollapsed": true
   },
   "source": [
    "**The goal of estimating the pLTV opportunity size is to enable businesses to make informed decision on whether investing in pLTV models and strategies should take priority over other initiatives.** <br>\n",
    "\n",
    "## Key Definitions\n",
    "\n",
    "**pLTV opportunity size** refers to the potential additional revenue generated by building a pLTV model and activating a pLTV strategy, compared to the business’ existing customer acquisition strategy, to help business decision makers evaluate the potential ROI before investing in a pLTV model and strategy. <br>\n",
    "\n",
    "<div style=\"font-size: 20px; color: #0b2287; text-align: center;\"> Opportunity Size = pLTV Revenue - BAU Revenue </div> <br> \n",
    "\n",
    "- **BAU Revenue**: Business-as-usual revenue generated by a broad targeted Customer Acquisition strategy, optimizing towards a standard revenue event (e.g. Purchase, Subscription, in-app purchase etc.).\n",
    "- **pLTV Revenue**: Revenue generated by a broad targeted Customer Acquisition strategy optimizing towards high-pLTV customers. <br>"
   ]
  },
  {
   "cell_type": "markdown",
   "id": "d332c5a4-9f74-4dcb-b4c1-6c7de29488ea",
   "metadata": {},
   "source": [
    "## How can pLTV initiatives drive additional revenue?\n",
    "- **A pLTV model:** Customers are not created equal, and their revenue contribution to a business’ long-term success varies. Therefore, a pLTV model is needed to help businesses accurately identify high-value customers that are crucial to a business’ long-term success.\n",
    "- **A pLTV strategy:** Digital customer acquisition campaigns are bound by attribution windows (e.g. the attribution window Meta uses is 7 days), and only a portion of revenue/purchase events happen within 7 days after ad exposure, which means businesses are missing out on opportunities to acquire high-value customers outside the 7-day attribution window. Therefore, a pLTV strategy is needed to help businesses acquire high-value customers by optimizing towards high-value pLTV signals. \n",
    " "
   ]
  },
  {
   "cell_type": "markdown",
   "id": "2ffe3ad5-376d-4ff1-8e9e-ca4620c69109",
   "metadata": {
    "jp-MarkdownHeadingCollapsed": true
   },
   "source": [
    "## Key Assumptions\n",
    "<div style=\"font-size: 20px; color: #0b2287; text-align: center;\"> Revenue = Number of new customers x Value of new customers </div> <br>\n",
    "\n",
    "**1. Same budget x same signal volume = same number of new customers:** \n",
    "\n",
    "- With a signal-based and scalable digital marketing platform like Meta, the potential user pool is large enough so that it’s possible to find and convert unlimited relevant users based on the optimization signals. \n",
    "- Therefore, with the same Customer Acquisition budget, a pLTV strategy, implemented on a scalable digital marketing platform, is able to acquire the same number of new customers\n",
    "- The opportunity size estimation in LTVision is primarily based on how pLTV strategies function on Meta platforms. These assumptions may also hold true for strategies on other scalable platforms.\n",
    "\n",
    "**2. Same or similar signal volume x higher signal value = higher revenue**\n",
    "\n",
    "- With the same amount of optimization signals, but with higher signal values, a pLTV strategy is able to acquire higher-value new customers compared to those acquired through a business as usual strategy\n",
    " <br>\n"
   ]
  },
  {
   "cell_type": "markdown",
   "id": "10bbe5c7-94e2-4f0e-bee9-afc2d45e0c95",
   "metadata": {},
   "source": [
    "## pLTV Opportunity Size varies depending on User Identification\n",
    "\n",
    "### Scenario 1 \n",
    "> When user identification happens prior to the 1st purchase or revenue event, such as in App, Gaming and Subscription businesses with free trials:** <br>\n",
    "\n",
    "The pLTV model is able to:\n",
    "- not only identify which day-7 purchasers will become ‘high spenders’ in the future \n",
    "- but also identify which day-7 ‘no spenders’ will become  ‘high spenders’ in the future.\n",
    "- As a result, the total pLTV signal volume is higher than the first purchase signal volume\n",
    "<br>\n",
    "\n",
    "The pLTV strategy - Custom Event Optimization (CEO) - is able to:\n",
    "- Maintain signal volume: by generating the same amount of pLTV signal volume as BAU signals, even with a value threshold (e.g. pLTV > $100)\n",
    "- Increase signal value: by replacing ALL signal segments (‘no spender’, ‘low spender’ and ‘medium spender’ signals) with ‘high-spender’ signals in the best case scenario\n",
    "\n",
    "\n",
    "### Scenario 2 \n",
    "> When user identification relies on the 1st purchase / revenue event, which is common in eCommerce and Retail businesses:** <br>\n",
    "\n",
    "The pLTV model is able to: \n",
    "- only identify which day-7 purchasers will become ‘high spenders’ in the future because there’s no user-data available for prediction prior to 1st purchase <br>\n",
    "\n",
    "The pLTV strategy - Value-based Lookalike + Bid Multipliers - is able to: \n",
    "- Maintain signal volume: by allowing pLTV acquisition campaigns to optimize towards the same optimization event as BAU, ensuring the same signal volume\n",
    "- Increase signal value: by replacing ‘low spender’ signals with 'medium spender' or ‘high spender’ signals <br>\n",
    "\n",
    "**Please note** that pLTV Opportunity Size is relatively lower for Scenario 2 when user identification relies on 1st Purchase for two reasons:\n",
    "1. User-level pLTV model relies on user identifiction, when identification relies on 1st Purchase, the pLTV model is to unable to improve the day-7 ‘no spender’ signals with higher-value signals simply because pLTV predictions were not available\n",
    "2. Compared to CEO, where advertisers can accurately define ‘high-value customers’ using a value threshold (e.g. pLTV > $100), a Bid Multiplier strategy can reduce bids on low-value customers and increase bids on high-value customers effectively, however, there's no clean cut to ensure the strategy will ONLY acquire the highest value new customers. \n",
    "\n"
   ]
  },
  {
   "cell_type": "markdown",
   "id": "f616fbd2-8fb9-47b7-9d3a-d615a54de48c",
   "metadata": {},
   "source": [
    "\n",
    "## pLTV Opportunity Size Calculations\n",
    "The `estimate_ltv_impact()` function calculates the estimated revenue increase based on a pLTV strategy.<br> \n",
    "- The *days_limit* and *early_limit* parameters work the same way as the Purchasers Flow Overtime visualization. <br>\n",
    "- The *is_model* parameter indicates whether user identification relies on 1st Purchase or not. <br>\n",
    "\n",
    "Therefore, there are two outputs for pLTV Opportunity Size Estimation depending on the scenario: <br>\n",
    "\n",
    "\n"
   ]
  },
  {
   "cell_type": "markdown",
   "id": "5716baf5-cd32-4558-aa4f-ecc98db62f25",
   "metadata": {},
   "source": [
    "\n",
    "### **Scenario 1** \n",
    "- When user identification happens prior to the 1st purchase / revenue event, such as in App, Gaming and Subscription businesses, use the first code cell and output where the parameter *'is_mobile=True'* <br>"
   ]
  },
  {
   "cell_type": "code",
   "execution_count": null,
   "id": "6777d9c2",
   "metadata": {},
   "outputs": [],
   "source": [
    "\n",
    "data = da.estimate_ltv_impact(\n",
    "    days_limit=60,\n",
    "    early_limit=7,\n",
    "    spending_breaks={},\n",
    "    is_mobile=True)\n",
    "data"
   ]
  },
  {
   "cell_type": "markdown",
   "id": "08494ccd-bca4-4cb1-a197-c5f5e78bf171",
   "metadata": {},
   "source": [
    "> Based on the demo data: <br>\n",
    ">> - When user identification happens before the 1st Purchase/revenue event, implementing a pLTV strategy could lead to 36,100 additional revenue or an estimated **maximum revenue increase of 203%**, compared to the BAU acquisition strategy <br>"
   ]
  },
  {
   "cell_type": "markdown",
   "id": "a8000b69-7e6b-482a-8c28-e0776306e58e",
   "metadata": {},
   "source": [
    "**Please note:** The spending_breaks parameter is empty by default, but there's a possibility to specify your own definition of the High, Medium and Low cohorts by following the format Dict[str, float],\n",
    "e.g. {'No spend': 0, 'Low spend': 10, 'Medium spend': 100, 'High spend': 1000} <br>"
   ]
  },
  {
   "cell_type": "markdown",
   "id": "28d15a04-6515-4753-b298-2c2ebb12d75b",
   "metadata": {},
   "source": [
    "\n",
    "### **Scenario 2** \n",
    "- When user identification relies on the 1st purchase / revenue event, which is common in eCommerce and Retail businesses, use the second code cell and output below where the parameter *'is_mobile=False'* <br>\n"
   ]
  },
  {
   "cell_type": "markdown",
   "id": "da7b034e-dc3f-46e4-a8d6-011536d95eac",
   "metadata": {},
   "source": [
    "If you are a mobile/gaming company, use the outputs when is_mobile=False"
   ]
  },
  {
   "cell_type": "code",
   "execution_count": null,
   "id": "a2f5a377",
   "metadata": {},
   "outputs": [],
   "source": [
    "\n",
    "data = da.estimate_ltv_impact(\n",
    "    days_limit=60,\n",
    "    early_limit=7,\n",
    "    spending_breaks={},\n",
    "    is_mobile=False)\n",
    "data"
   ]
  },
  {
   "cell_type": "markdown",
   "id": "eb128e23-b3c2-44f7-af13-7aa0b037ef89",
   "metadata": {},
   "source": [
    "> Based on the demo data: <br>\n",
    ">> - When user identification relies on the 1st Purchase/revenue event, implementing a pLTV strategy could lead to 2,686 additional revenue or an estimated **maximum revenue increase of 15%**, compared to the BAU acquisition strategy. <br>\n"
   ]
  },
  {
   "cell_type": "markdown",
   "id": "6d46559d-0ef0-4276-b049-6bc4c66b0567",
   "metadata": {},
   "source": [
    "\n",
    "## Estimating pLTV ROI (Optional)\n",
    "Now the estimated additional revenue is in place, businesses have the possibility to calculate the **ROI** of the entire pLTV initiative by dividing the additional revenue by the estimated costs. <br>\n",
    "\n",
    "To calculate the **ROI**, an estimation of the associated costs is needed, which includes both developing and maintaining the pLTV model, and activating and optimizing the pLTV strategy across various platforms. <br>\n",
    "\n",
    "Please refer to the **LTVision Module 1 Pitch Deck** for detailed explanations on the assumptions and formulas used in the Opportunity Size Estimations. <br>\n"
   ]
  },
  {
   "cell_type": "markdown",
   "id": "fef0784b-b425-47ce-9d56-b0221e67a6b2",
   "metadata": {},
   "source": [
    "***\n",
    "# LTVision Module 1 Insights Summary \n",
    "\n",
    "## Are all customers worth the same? <br>\n",
    "**Purchase Frequency:**\n",
    "- 4.4% of all customers are revenue-generating customers or purchasers\n",
    "- 39% of all purchasers have purchased only once <br> \n",
    "- 29% purchased twice\n",
    "- 14% purchased three times\n",
    "\n",
    "**Top spenders' contribution to total revenue:**\n",
    "- The top 5% highest spending customers contributed to 67.7% of total revenue\n",
    "- The top 10% spenders contributed to 74.6% of total revenue\n",
    "- The top 20% spenders contributed to more than 83% of total revenue\n",
    "\n",
    "## Can your digital customer acquisition campaigns capture all new purchasers? <br>\n",
    "\n",
    "**Time to First Purchase:**\n",
    "- 55% of first-time purchases happened within 7 days of the initial interaction\n",
    "- Since the remaining 45% of first purchases happen beyond the 7-day optimization window, it means that the current digital customer acquisition campaign is missing out on 45% of the purchases that happen outside the 7-day optimization window\n",
    "\n",
    "## Is your short-term customer value a reliable indicator for long-term value?<br>\n",
    "\n",
    "**Correlation between short-term and long-term revenue:**\n",
    "- There is high correlation in early time frames. For example, the correlation between day-7 revenue and day-10 revenue is a robust 95%\n",
    "- However, as time progresses, the correlation between day-7 revenue and future revenue weakens significantly. By day-22, this correlation has already dropped below 40%. This suggests that day-7 revenue is not a reliable indicator for revenue on day-22 and beyond.\n",
    "- This diminishing correlation between early and later revenue is a crucial indicator of the potential value a pLTV strategy could bring to a business.\n",
    "\n",
    "**Purchaser Flow Overtime:**\n",
    "- 27% of no spenders by day-7 became high spenders by day-60 \n",
    "- 29% of low spenders by day-7 became high spenders by day-60 \n",
    "- 23% of medium spenders by day-7 became high spenders by day-60 \n",
    "- In total, 66% of high spenders by day-60 were not high spenders at day-7\n",
    "\n",
    "## How much additional revenue could your business unlock with a pLTV strategy? <br>\n",
    "**pLTV Opportunity Size Estimation:**\n",
    "- When user identification happens before the 1st Purchase/revenue event, implementing a pLTV strategy could lead to 36,100 additional revenue or an estimated **maximum revenue increase of 203%**, compared to the BAU acquisition strategy <br>\n",
    "- When user identification relies on the 1st Purchase/revenue event, implementing a pLTV strategy could lead to 2,686 additional revenue or an estimated **maximum revenue increase of 15%**, compared to the BAU acquisition strategy. <br>"
   ]
  },
  {
   "cell_type": "markdown",
   "id": "cd1db119-56d3-48d2-b433-e3fc07169115",
   "metadata": {},
   "source": [
    "***\n",
    "<div style=\"font-size: 28px; color: #0b2287; \">  Thank you for using LTVision Module 1!</div>\n",
    "<div style=\"font-size: 22px; color: #0b2287; \"> We hope you learned something new about your customers and the pLTV opportunities for your business :) </div>"
   ]
  },
  {
   "cell_type": "markdown",
   "id": "4ceaa25d-9e24-4a26-95aa-cc619b65b826",
   "metadata": {},
   "source": [
    "We are constantly looking to improve LTVision and your feedback is invaluable to us! <br>\n",
    "Please [take our survey](https://docs.google.com/forms/d/e/1FAIpQLSej8tQdsuwQ71_cLU-k5s2n933_xuQ5a8pIt1jYtlVcMEmDlA/viewform?usp=sharing) to share your feedback or questions! Thank you for helping us improve! <br>"
   ]
  }
 ],
 "metadata": {
  "kernelspec": {
   "display_name": "Python 3 (ipykernel)",
   "language": "python",
   "name": "python3"
  },
  "language_info": {
   "codemirror_mode": {
    "name": "ipython",
    "version": 3
   },
   "file_extension": ".py",
   "mimetype": "text/x-python",
   "name": "python",
   "nbconvert_exporter": "python",
   "pygments_lexer": "ipython3",
   "version": "3.10.16"
  },
  "toc": {
   "base_numbering": 1,
   "nav_menu": {},
   "number_sections": true,
   "sideBar": true,
   "skip_h1_title": false,
   "title_cell": "Table of Contents",
   "title_sidebar": "Contents",
   "toc_cell": false,
   "toc_position": {},
   "toc_section_display": true,
   "toc_window_display": false
  },
  "varInspector": {
   "cols": {
    "lenName": 16,
    "lenType": 16,
    "lenVar": 40
   },
   "kernels_config": {
    "python": {
     "delete_cmd_postfix": "",
     "delete_cmd_prefix": "del ",
     "library": "var_list.py",
     "varRefreshCmd": "print(var_dic_list())"
    },
    "r": {
     "delete_cmd_postfix": ") ",
     "delete_cmd_prefix": "rm(",
     "library": "var_list.r",
     "varRefreshCmd": "cat(var_dic_list()) "
    }
   },
   "types_to_exclude": [
    "module",
    "function",
    "builtin_function_or_method",
    "instance",
    "_Feature"
   ],
   "window_display": false
  }
 },
 "nbformat": 4,
 "nbformat_minor": 5
}
